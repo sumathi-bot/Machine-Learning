{
  "nbformat": 4,
  "nbformat_minor": 0,
  "metadata": {
    "colab": {
      "name": "Ex_nn.ipynb",
      "provenance": [],
      "collapsed_sections": []
    },
    "kernelspec": {
      "name": "python3",
      "display_name": "Python 3"
    },
    "language_info": {
      "name": "python"
    }
  },
  "cells": [
    {
      "cell_type": "code",
      "metadata": {
        "colab": {
          "base_uri": "https://localhost:8080/",
          "height": 1000
        },
        "id": "Rg5SG-Jnm5A3",
        "outputId": "5dc50d1f-03b3-4a6f-b515-b34d155fd28d"
      },
      "source": [
        "## Machine Learning Online Class - Exercise 3 | Part 2: Neural Networks\n",
        "\n",
        "#  Instructions\n",
        "#  ------------\n",
        "# \n",
        "#  This file contains code that helps you get started on the\n",
        "#  linear exercise. You will need to complete the following functions \n",
        "#  in this exericse:\n",
        "#\n",
        "#     lrCostFunction.m (logistic regression cost function)\n",
        "#     oneVsAll.m\n",
        "#     predictOneVsAll.m\n",
        "#     predict.m\n",
        "#\n",
        "#  For this exercise, you will not need to change any code in this file,\n",
        "#  or any other files other than those mentioned above.\n",
        "#\n",
        "\n",
        "## Initialization\n",
        "#clear ; close all; clc\n",
        "import numpy as np\n",
        "import matplotlib.pyplot as plt\n",
        "import pandas as pd\n",
        "import scipy\n",
        "import math\n",
        "from scipy import optimize\n",
        "from scipy.io import loadmat\n",
        "\n",
        "\n",
        "\n",
        "def displayData(X, example_width=None):\n",
        "#DISPLAYDATA Display 2D data in a nice grid\n",
        "#   [h, display_array] = DISPLAYDATA(X, example_width) displays 2D data\n",
        "#   stored in X in a nice grid. It returns the figure handle h and the \n",
        "#   displayed array if requested.\n",
        "\n",
        "  \n",
        "\n",
        "\t# Set example_width automatically if not passed in\n",
        "\tif not example_width or not 'example_width' in locals():\n",
        "\t\texample_width = int(round(math.sqrt(X.shape[1])))\n",
        "  \n",
        "\n",
        "\n",
        "\t# Gray Image\n",
        "\tplt.set_cmap(\"gray\")\n",
        "\n",
        "\t# Compute rows, cols\n",
        "\tm, n = X.shape\n",
        "\n",
        "\texample_height = int(n/example_width)\n",
        "\n",
        "\t# Compute number of items to display\n",
        "\tdisplay_rows = int(math.floor(math.sqrt(m)))\n",
        "\tdisplay_cols = int(math.ceil(m/display_rows))\n",
        "\n",
        "\t# Between images padding\n",
        "\tpad = 1\n",
        "\n",
        "\t# Setup blank display\n",
        "\tdisplay_array = -np.ones((pad + display_rows * (example_height + pad),  pad + display_cols * (example_width + pad)))\n",
        "\n",
        "\t# Copy each example into a patch on the display array\n",
        "\tcurr_ex = 1\n",
        "\tfor j in range(1,display_rows+1):\n",
        "\t\tfor i in range (1,display_cols+1):\n",
        "\t\t\tif curr_ex > m:\n",
        "\t\t\t\tbreak\n",
        "\t\t\n",
        "\t\t\t# Copy the patch\n",
        "\t\t\t\n",
        "\t\t\t# Get the max value of the patch to normalize all examples\n",
        "\t\t\tmax_val = max(abs(X[curr_ex-1, :]))\n",
        "\t\t\trows = pad + (j - 1) * (example_height + pad) + np.array(range(example_height))\n",
        "\t\t\tcols = pad + (i - 1) * (example_width  + pad) + np.array(range(example_width ))\n",
        "\n",
        "\t\t\tdisplay_array[rows[0]:rows[-1]+1 , cols[0]:cols[-1]+1] = np.reshape(X[curr_ex-1, :], (example_height, example_width), order=\"F\") / max_val\n",
        "\t\t\tcurr_ex += 1\n",
        "\t\n",
        "\t\tif curr_ex > m:\n",
        "\t\t\tbreak\n",
        "\n",
        "\t# Display Image\n",
        "\th = plt.imshow(display_array, vmin=-1, vmax=1)\n",
        "\n",
        "\t# Do not show axis\n",
        "\tplt.axis('off')\n",
        "\n",
        "\tplt.show(block=False)\n",
        "  \n",
        "\t#return h, display_array\n",
        "\n",
        "\n",
        "\n",
        "\n",
        "def sigmoid(z):\n",
        "#SIGMOID Compute sigmoid functoon\n",
        "#   J = SIGMOID(z) computes the sigmoid of z.\n",
        "\n",
        "  g = 1.0/(1.0 + np.exp(-z))\n",
        "  return g\n",
        "\n",
        "\n",
        "\n",
        "\n",
        "\n",
        "\n",
        "\n",
        "\n",
        "\n",
        "def predict(Theta1, Theta2, X):\n",
        "#   PREDICT Predict the label of an input given a trained neural network\n",
        "#   p = PREDICT(Theta1, Theta2, X) outputs the predicted label of X given the\n",
        "#   trained weights of a neural network (Theta1, Theta2)\n",
        "\n",
        "# Useful values\n",
        "  m = X.shape[0]\n",
        "  num_labels = np.size(Theta2, 1)\n",
        "\n",
        "# You need to return the following variables correctly \n",
        "  p = np.zeros(X.shape[0])\n",
        "\n",
        "# ====================== YOUR CODE HERE ======================\n",
        "# Instructions: Complete the following code to make predictions using\n",
        "#               your learned neural network. You should set p to a \n",
        "#               vector containing labels between 1 to num_labels.\n",
        "#\n",
        "# Hint: The max function might come in useful. In particular, the max\n",
        "#       function can also return the index of the max element, for more\n",
        "#       information see 'help max'. If your examples are in rows, then, you\n",
        "#       can use max(A, [], 2) to obtain the max for each row.\n",
        "#\n",
        "\n",
        "\n",
        "  X = np.concatenate([np.ones((m, 1)), X], axis=1)\n",
        "    \n",
        "  a2 = sigmoid(X.dot(Theta1.T))\n",
        "  a2 = np.concatenate([np.ones((a2.shape[0], 1)), a2], axis=1)\n",
        "    \n",
        "  p = np.argmax(sigmoid(a2.dot(Theta2.T)), axis = 1)\n",
        "  return p\n",
        "\n",
        "\n",
        "\n",
        "# =========================================================================\n",
        "\n",
        "\n",
        "\n",
        "\n",
        "\n",
        "\n",
        "## Setup the parameters you will use for this exercise\n",
        "input_layer_size  = 400  # 20x20 Input Images of Digits\n",
        "hidden_layer_size = 25   # 25 hidden units\n",
        "num_labels = 10          # 10 labels, from 1 to 10   \n",
        "                          # (note that we have mapped \"0\" to label 10)\n",
        "\n",
        "## =========== Part 1: Loading and Visualizing Data =============\n",
        "#  We start the exercise by first loading and visualizing the dataset. \n",
        "#  You will be working with a dataset that contains handwritten digits.\n",
        "#\n",
        "\n",
        "# Load Training Data\n",
        "print('Loading and Visualizing Data ...\\n')\n",
        "\n",
        "#load('ex3data1.mat')\n",
        "from google.colab import drive\n",
        "drive.mount(\"/content/drive\",force_remount= True)\n",
        "data = scipy.io.loadmat('/content/drive/My Drive/ex3data1.mat')\n",
        "X = data['X']\n",
        "y = data['y'].ravel()\n",
        "# This is an artifact due to the fact that this dataset was used in \n",
        "# MATLAB where there is no index 0\n",
        "y[y == 10] = 0\n",
        "\n",
        "#m = size(X, 1) #in octave\n",
        "m = y.size\n",
        "\n",
        "\n",
        "# Randomly select 100 data points to display\n",
        "rand_indices = np.random.choice(m,100,replace=False)\n",
        "sel = X[rand_indices, :]\n",
        "\n",
        "displayData(sel)\n",
        "\n",
        "print('Program paused. Press enter to continue.\\n');\n",
        "#pause;\n",
        "\n",
        "# ================ Part 2: Loading Pameters ================\n",
        "# In this part of the exercise, we load some pre-initialized \n",
        "# neural network parameters.\n",
        "\n",
        "print('\\nLoading Saved Neural Network Parameters ...\\n')\n",
        "\n",
        "# Load the weights into variables Theta1 and Theta2\n",
        "\n",
        "weights = scipy.io.loadmat('/content/drive/My Drive/ex3weights.mat')\n",
        "\n",
        "Theta1 = weights['Theta1']\n",
        "Theta2 = weights['Theta2']\n",
        "\n",
        "# swap first and last columns of Theta2, due to legacy from MATLAB indexing, \n",
        "# since the weight file ex3weights.mat was saved based on MATLAB indexing\n",
        "Theta2 = np.roll(Theta2, 1, axis=0)\n",
        "\n",
        "# ================= Part 3: Implement Predict =================\n",
        "#  After training the neural network, we would like to use it to predict\n",
        "#  the labels. You will now implement the \"predict\" function to use the\n",
        "#  neural network to predict the labels of the training set. This lets\n",
        "#  you compute the training set accuracy.\n",
        "\n",
        "pred = predict(Theta1, Theta2, X)\n",
        "\n",
        "print('\\nTraining Set Accuracy: \\n', np.mean(np.double(pred == y)) * 100)\n",
        "\n",
        "print('Program paused. Press enter to continue.\\n');\n",
        "#pause\n",
        "\n",
        "#  To give you an idea of the network's output, you can also run\n",
        "#  through the examples one at the a time to see what it is predicting.\n",
        "\n",
        "#  Randomly permute examples\n",
        "#rp = np.random.permutation(m)\n",
        "\n",
        "\n",
        "\n",
        "for i in range(m):\n",
        "  # Randomly select 1 data point to display\n",
        "  rand_indices = np.random.choice(m,1,replace=False)\n",
        "  sel = X[rand_indices, :]\n",
        "  displayData(sel)\n",
        "  pred = predict(Theta1, Theta2, sel)\n",
        "  print('\\nNeural Network Prediction: Digit',pred)\n",
        "  s = input('\\nPaused - press enter to continue, q to exit:')\n",
        "  if 'q' in s:\n",
        "    break\n",
        "\n",
        "\n",
        "\n",
        "\n",
        "\n",
        "\n",
        "\n"
      ],
      "execution_count": 1,
      "outputs": [
        {
          "output_type": "stream",
          "text": [
            "Loading and Visualizing Data ...\n",
            "\n",
            "Mounted at /content/drive\n"
          ],
          "name": "stdout"
        },
        {
          "output_type": "display_data",
          "data": {
            "image/png": "[encoded data removed]",
            "text/plain": [
              "<Figure size 432x288 with 1 Axes>"
            ]
          },
          "metadata": {
            "tags": [],
            "needs_background": "light"
          }
        },
        {
          "output_type": "stream",
          "text": [
            "Program paused. Press enter to continue.\n",
            "\n",
            "\n",
            "Loading Saved Neural Network Parameters ...\n",
            "\n",
            "\n",
            "Training Set Accuracy: \n",
            " 97.52\n",
            "Program paused. Press enter to continue.\n",
            "\n"
          ],
          "name": "stdout"
        },
        {
          "output_type": "display_data",
          "data": {
            "image/png": "[encoded data removed]",
            "text/plain": [
              "<Figure size 432x288 with 1 Axes>"
            ]
          },
          "metadata": {
            "tags": [],
            "needs_background": "light"
          }
        },
        {
          "output_type": "stream",
          "text": [
            "\n",
            "Neural Network Prediction: Digit [7]\n",
            "\n",
            "Paused - press enter to continue, q to exit:\n"
          ],
          "name": "stdout"
        },
        {
          "output_type": "display_data",
          "data": {
            "image/png": "[encoded data removed]",
            "text/plain": [
              "<Figure size 432x288 with 1 Axes>"
            ]
          },
          "metadata": {
            "tags": [],
            "needs_background": "light"
          }
        },
        {
          "output_type": "stream",
          "text": [
            "\n",
            "Neural Network Prediction: Digit [0]\n",
            "\n",
            "Paused - press enter to continue, q to exit:\n"
          ],
          "name": "stdout"
        },
        {
          "output_type": "display_data",
          "data": {
            "image/png": "[encoded data removed]",
            "text/plain": [
              "<Figure size 432x288 with 1 Axes>"
            ]
          },
          "metadata": {
            "tags": [],
            "needs_background": "light"
          }
        },
        {
          "output_type": "stream",
          "text": [
            "\n",
            "Neural Network Prediction: Digit [5]\n",
            "\n",
            "Paused - press enter to continue, q to exit:\n"
          ],
          "name": "stdout"
        },
        {
          "output_type": "display_data",
          "data": {
            "image/png": "[encoded data removed]",
            "text/plain": [
              "<Figure size 432x288 with 1 Axes>"
            ]
          },
          "metadata": {
            "tags": [],
            "needs_background": "light"
          }
        },
        {
          "output_type": "stream",
          "text": [
            "\n",
            "Neural Network Prediction: Digit [6]\n",
            "\n",
            "Paused - press enter to continue, q to exit:\n"
          ],
          "name": "stdout"
        },
        {
          "output_type": "display_data",
          "data": {
            "image/png": "[encoded data removed]",
            "text/plain": [
              "<Figure size 432x288 with 1 Axes>"
            ]
          },
          "metadata": {
            "tags": [],
            "needs_background": "light"
          }
        },
        {
          "output_type": "stream",
          "text": [
            "\n",
            "Neural Network Prediction: Digit [4]\n",
            "\n",
            "Paused - press enter to continue, q to exit:\n"
          ],
          "name": "stdout"
        },
        {
          "output_type": "display_data",
          "data": {
            "image/png": "[encoded data removed]",
            "text/plain": [
              "<Figure size 432x288 with 1 Axes>"
            ]
          },
          "metadata": {
            "tags": [],
            "needs_background": "light"
          }
        },
        {
          "output_type": "stream",
          "text": [
            "\n",
            "Neural Network Prediction: Digit [4]\n",
            "\n",
            "Paused - press enter to continue, q to exit:\n"
          ],
          "name": "stdout"
        },
        {
          "output_type": "display_data",
          "data": {
            "image/png": "[encoded data removed]",
            "text/plain": [
              "<Figure size 432x288 with 1 Axes>"
            ]
          },
          "metadata": {
            "tags": [],
            "needs_background": "light"
          }
        },
        {
          "output_type": "stream",
          "text": [
            "\n",
            "Neural Network Prediction: Digit [8]\n",
            "\n",
            "Paused - press enter to continue, q to exit:\n"
          ],
          "name": "stdout"
        },
        {
          "output_type": "display_data",
          "data": {
            "image/png": "[encoded data removed]",
            "text/plain": [
              "<Figure size 432x288 with 1 Axes>"
            ]
          },
          "metadata": {
            "tags": [],
            "needs_background": "light"
          }
        },
        {
          "output_type": "stream",
          "text": [
            "\n",
            "Neural Network Prediction: Digit [1]\n",
            "\n",
            "Paused - press enter to continue, q to exit:\n"
          ],
          "name": "stdout"
        },
        {
          "output_type": "display_data",
          "data": {
            "image/png": "[encoded data removed]",
            "text/plain": [
              "<Figure size 432x288 with 1 Axes>"
            ]
          },
          "metadata": {
            "tags": [],
            "needs_background": "light"
          }
        },
        {
          "output_type": "stream",
          "text": [
            "\n",
            "Neural Network Prediction: Digit [4]\n",
            "\n",
            "Paused - press enter to continue, q to exit:\n"
          ],
          "name": "stdout"
        },
        {
          "output_type": "display_data",
          "data": {
            "image/png": "[encoded data removed]",
            "text/plain": [
              "<Figure size 432x288 with 1 Axes>"
            ]
          },
          "metadata": {
            "tags": [],
            "needs_background": "light"
          }
        },
        {
          "output_type": "stream",
          "text": [
            "\n",
            "Neural Network Prediction: Digit [6]\n",
            "\n",
            "Paused - press enter to continue, q to exit:\n"
          ],
          "name": "stdout"
        },
        {
          "output_type": "display_data",
          "data": {
            "image/png": "[encoded data removed]",
            "text/plain": [
              "<Figure size 432x288 with 1 Axes>"
            ]
          },
          "metadata": {
            "tags": [],
            "needs_background": "light"
          }
        },
        {
          "output_type": "stream",
          "text": [
            "\n",
            "Neural Network Prediction: Digit [2]\n",
            "\n",
            "Paused - press enter to continue, q to exit:\n"
          ],
          "name": "stdout"
        },
        {
          "output_type": "display_data",
          "data": {
            "image/png": "[encoded data removed]",
            "text/plain": [
              "<Figure size 432x288 with 1 Axes>"
            ]
          },
          "metadata": {
            "tags": [],
            "needs_background": "light"
          }
        },
        {
          "output_type": "stream",
          "text": [
            "\n",
            "Neural Network Prediction: Digit [4]\n",
            "\n",
            "Paused - press enter to continue, q to exit:q\n"
          ],
          "name": "stdout"
        }
      ]
    }
  ]
}